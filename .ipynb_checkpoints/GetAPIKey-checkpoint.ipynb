{
 "cells": [
  {
   "cell_type": "code",
   "execution_count": 7,
   "metadata": {},
   "outputs": [],
   "source": [
    "def GetAPIKey():\n",
    "    \n",
    "    nrelKeyPath = 'C:\\\\Users\\\\DTRManning\\\\Desktop\\\\IndependentProjects\\\\Keys\\\\NREL\\\\NRELkey.txt'\n",
    "    \n",
    "    with open(nrelKeyPath, 'r') as file:\n",
    "        key = file.read().rstrip()\n",
    "    \n",
    "    return(key)"
   ]
  }
 ],
 "metadata": {
  "kernelspec": {
   "display_name": "Python 3",
   "language": "python",
   "name": "python3"
  },
  "language_info": {
   "codemirror_mode": {
    "name": "ipython",
    "version": 3
   },
   "file_extension": ".py",
   "mimetype": "text/x-python",
   "name": "python",
   "nbconvert_exporter": "python",
   "pygments_lexer": "ipython3",
   "version": "3.7.4"
  }
 },
 "nbformat": 4,
 "nbformat_minor": 2
}
