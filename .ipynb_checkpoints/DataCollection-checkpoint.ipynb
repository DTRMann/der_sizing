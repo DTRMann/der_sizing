{
 "cells": [
  {
   "cell_type": "code",
   "execution_count": 1,
   "metadata": {},
   "outputs": [],
   "source": [
    "import pandas as pd\n",
    "import numpy as np\n",
    "import os\n",
    "import requests"
   ]
  },
  {
   "cell_type": "code",
   "execution_count": 31,
   "metadata": {},
   "outputs": [],
   "source": [
    "%run Utilities.ipynb\n",
    "%run GetAPIKey.ipynb"
   ]
  },
  {
   "cell_type": "code",
   "execution_count": 5,
   "metadata": {},
   "outputs": [],
   "source": [
    "wd = 'C:\\\\Users\\\\DTRManning\\\\Desktop\\\\IndependentProjects\\\\BatteryOutageSizing'"
   ]
  },
  {
   "cell_type": "code",
   "execution_count": 6,
   "metadata": {},
   "outputs": [],
   "source": [
    "### Plan\n",
    "# Get household consumption profile\n",
    "# Get rooftop PV profile (PVWatts?) - https://developer.nrel.gov/docs/solar/\n",
    "# Dispatch battery to self consume 100% of household usage (charge off solar, discharge to serve load)"
   ]
  },
  {
   "cell_type": "code",
   "execution_count": 25,
   "metadata": {},
   "outputs": [
    {
     "data": {
      "text/plain": [
       "0"
      ]
     },
     "execution_count": 25,
     "metadata": {},
     "output_type": "execute_result"
    }
   ],
   "source": [
    "### Household profile data ###\n",
    "# Reference: https://data.openei.org/submissions/153\n",
    "# Data location: https://openei.org/datasets/files/961/pub/\n",
    "\n",
    "# Construct API call\n",
    "ResLoadAPI = {}\n",
    "ResLoadAPI['baseURL']      = 'https://openei.org/datasets/files/961/pub'\n",
    "ResLoadAPI['dataCategory'] = 'RESIDENTIAL_LOAD_DATA_E_PLUS_OUTPUT'\n",
    "# Options for case are LOW, BASE, and HIGH\n",
    "ResLoadAPI['case']         = 'BASE'\n",
    "# LocationID is an exact string match from here: https://openei.org/datasets/files/961/pub/RESIDENTIAL_LOAD_DATA_E_PLUS_OUTPUT/BASE/\n",
    "ResLoadAPI['locationID']   = 'USA_CO_Aspen-Pitkin.County-Sardy.Field.724676_TMY3_BASE.csv'\n",
    "\n",
    "url = '/'.join( str(x) for x in ResLoadAPI.values() )\n",
    "\n",
    "# Create path to which to save locally\n",
    "saveDir  = os.path.join( wd, ResLoadAPI['dataCategory'] )\n",
    "savePath = os.path.join( saveDir, ResLoadAPI['locationID'] )\n",
    "\n",
    "# Create directory for saving if it doesn't exist\n",
    "if not os.path.exists(saveDir):\n",
    "    os.makedirs(saveDir)\n",
    "\n",
    "DownloadURL( url, savePath )\n",
    "#Unzip(savePath,destPath)"
   ]
  },
  {
   "cell_type": "code",
   "execution_count": 51,
   "metadata": {},
   "outputs": [],
   "source": [
    "### Rooftop solar profile ###\n",
    "# Reference, PV watts: https://developer.nrel.gov/docs/solar/pvwatts/v6/#examples\n",
    "# Example data pull: https://github.com/mpaolino/pypvwatts/blob/master/pypvwatts/pypvwatts.py\n",
    "\n",
    "# Parse API key\n",
    "key = GetAPIKey()\n",
    "\n",
    "# Build query\n",
    "\n",
    "pvWattsInputs = {\n",
    "    \"api_key\": key,\n",
    "    \"system_capacity\": \"4\",\n",
    "    \"lat\": \"37.72\",\n",
    "    \"lon\": \"-89.21\",\n",
    "    \"azimuth\": \"180\",\n",
    "    \"tilt\": \"40\",\n",
    "    \"array_type\": \"1\",\n",
    "    \"module_type\": \"1\",\n",
    "    \"losses\": \"10\",\n",
    "    \"timeframe\": \"hourly\"}\n",
    "\n",
    "baseURL = 'https://developer.nrel.gov/api/pvwatts/v6.json?'"
   ]
  },
  {
   "cell_type": "code",
   "execution_count": 52,
   "metadata": {},
   "outputs": [],
   "source": [
    "response = requests.request( 'GET', url = baseURL, params = pvWattsInputs )"
   ]
  },
  {
   "cell_type": "code",
   "execution_count": 54,
   "metadata": {},
   "outputs": [],
   "source": [
    "result = response.json()"
   ]
  },
  {
   "cell_type": "code",
   "execution_count": null,
   "metadata": {},
   "outputs": [],
   "source": []
  }
 ],
 "metadata": {
  "kernelspec": {
   "display_name": "Python 3",
   "language": "python",
   "name": "python3"
  },
  "language_info": {
   "codemirror_mode": {
    "name": "ipython",
    "version": 3
   },
   "file_extension": ".py",
   "mimetype": "text/x-python",
   "name": "python",
   "nbconvert_exporter": "python",
   "pygments_lexer": "ipython3",
   "version": "3.7.4"
  }
 },
 "nbformat": 4,
 "nbformat_minor": 2
}
