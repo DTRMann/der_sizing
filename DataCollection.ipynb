{
 "cells": [
  {
   "cell_type": "code",
   "execution_count": 1,
   "metadata": {},
   "outputs": [],
   "source": [
    "import pandas as pd\n",
    "import numpy as np\n",
    "import os\n",
    "import requests"
   ]
  },
  {
   "cell_type": "code",
   "execution_count": 31,
   "metadata": {},
   "outputs": [],
   "source": [
    "%run Utilities.ipynb\n",
    "%run GetAPIKey.ipynb"
   ]
  },
  {
   "cell_type": "code",
   "execution_count": 5,
   "metadata": {},
   "outputs": [],
   "source": [
    "wd = 'C:\\\\Users\\\\DTRManning\\\\Desktop\\\\IndependentProjects\\\\BatteryOutageSizing'"
   ]
  },
  {
   "cell_type": "code",
   "execution_count": 6,
   "metadata": {},
   "outputs": [],
   "source": [
    "### Plan\n",
    "# Get household consumption profile\n",
    "# Get rooftop PV profile (PVWatts?) - https://developer.nrel.gov/docs/solar/\n",
    "# Dispatch battery to self consume 100% of household usage (charge off solar, discharge to serve load)"
   ]
  },
  {
   "cell_type": "code",
   "execution_count": 25,
   "metadata": {},
   "outputs": [
    {
     "data": {
      "text/plain": [
       "0"
      ]
     },
     "execution_count": 25,
     "metadata": {},
     "output_type": "execute_result"
    }
   ],
   "source": [
    "### Household profile data ###\n",
    "# Reference: https://data.openei.org/submissions/153\n",
    "# Data location: https://openei.org/datasets/files/961/pub/\n",
    "\n",
    "# Construct API call\n",
    "ResLoadAPI = {}\n",
    "ResLoadAPI['baseURL']      = 'https://openei.org/datasets/files/961/pub'\n",
    "ResLoadAPI['dataCategory'] = 'RESIDENTIAL_LOAD_DATA_E_PLUS_OUTPUT'\n",
    "# Options for case are LOW, BASE, and HIGH\n",
    "ResLoadAPI['case']         = 'BASE'\n",
    "# LocationID is an exact string match from here: https://openei.org/datasets/files/961/pub/RESIDENTIAL_LOAD_DATA_E_PLUS_OUTPUT/BASE/\n",
    "ResLoadAPI['locationID']   = 'USA_CO_Aspen-Pitkin.County-Sardy.Field.724676_TMY3_BASE.csv'\n",
    "\n",
    "url = '/'.join( str(x) for x in ResLoadAPI.values() )\n",
    "\n",
    "# Create path to which to save locally\n",
    "saveDir  = os.path.join( wd, ResLoadAPI['dataCategory'] )\n",
    "savePath = os.path.join( saveDir, ResLoadAPI['locationID'] )\n",
    "\n",
    "# Create directory for saving if it doesn't exist\n",
    "if not os.path.exists(saveDir):\n",
    "    os.makedirs(saveDir)\n",
    "\n",
    "DownloadURL( url, savePath )\n",
    "#Unzip(savePath,destPath)"
   ]
  },
  {
   "cell_type": "code",
   "execution_count": 44,
   "metadata": {},
   "outputs": [],
   "source": [
    "### Rooftop solar profile ###\n",
    "# Reference, PV watts: https://developer.nrel.gov/docs/solar/pvwatts/v6/#examples\n",
    "# Example data pull: https://github.com/mpaolino/pypvwatts/blob/master/pypvwatts/pypvwatts.py\n",
    "\n",
    "# Parse API key\n",
    "key = GetAPIKey()\n",
    "\n",
    "# Build query\n",
    "\n",
    "pvWattsInputs = {\n",
    "    \"api_key\": key,\n",
    "    \"system_capacity\": \"4\",\n",
    "    \"lat\": \"40\",\n",
    "    \"lon\": \"-105\",\n",
    "    \"azimuth\": \"180\",\n",
    "    \"tilt\": \"40\",\n",
    "    \"array_type\": \"1\",\n",
    "    \"module_type\": \"1\",\n",
    "    \"losses\": \"10\" }\n",
    "\n",
    "baseURL = 'https://developer.nrel.gov/api/pvwatts/v6.json?'"
   ]
  },
  {
   "cell_type": "code",
   "execution_count": 45,
   "metadata": {},
   "outputs": [],
   "source": [
    "response = requests.request( 'GET', url = baseURL, params = pvWattsInputs )"
   ]
  },
  {
   "cell_type": "code",
   "execution_count": 47,
   "metadata": {},
   "outputs": [
    {
     "data": {
      "text/plain": [
       "{'inputs': {'system_capacity': '4',\n",
       "  'lat': '40',\n",
       "  'lon': '-105',\n",
       "  'azimuth': '180',\n",
       "  'tilt': '40',\n",
       "  'array_type': '1',\n",
       "  'module_type': '1',\n",
       "  'losses': '10'},\n",
       " 'errors': [],\n",
       " 'warnings': [],\n",
       " 'version': '1.0.2',\n",
       " 'ssc_info': {'version': 45,\n",
       "  'build': 'Linux 64 bit GNU/C++ Jul  7 2015 14:24:09'},\n",
       " 'station_info': {'lat': 40.0099983215332,\n",
       "  'lon': -105.0199966430664,\n",
       "  'elev': 1581.839965820312,\n",
       "  'tz': -7.0,\n",
       "  'location': 'None',\n",
       "  'city': '',\n",
       "  'state': 'Colorado',\n",
       "  'solar_resource_file': 'W10502N4001.csv',\n",
       "  'distance': 2029},\n",
       " 'outputs': {'ac_monthly': [474.4326171875,\n",
       "   484.3903503417969,\n",
       "   595.7704467773438,\n",
       "   592.0599365234375,\n",
       "   591.2662353515625,\n",
       "   589.3538208007812,\n",
       "   583.2352905273438,\n",
       "   586.4593505859375,\n",
       "   584.8131713867188,\n",
       "   561.72314453125,\n",
       "   486.1260375976562,\n",
       "   445.6881713867188],\n",
       "  'poa_monthly': [141.4809417724609,\n",
       "   145.5711975097656,\n",
       "   184.7876434326172,\n",
       "   181.5513763427734,\n",
       "   186.4280853271484,\n",
       "   190.5132904052734,\n",
       "   188.7499694824219,\n",
       "   190.5398101806641,\n",
       "   188.2213134765625,\n",
       "   175.4444122314453,\n",
       "   146.3170471191406,\n",
       "   131.1568298339844],\n",
       "  'solrad_monthly': [4.563901424407959,\n",
       "   5.198971271514893,\n",
       "   5.960891723632812,\n",
       "   6.051712512969971,\n",
       "   6.013809204101562,\n",
       "   6.350442886352539,\n",
       "   6.088708877563477,\n",
       "   6.146445274353027,\n",
       "   6.274043560028076,\n",
       "   5.659497261047363,\n",
       "   4.877234935760498,\n",
       "   4.230865478515625],\n",
       "  'dc_monthly': [497.9421081542969,\n",
       "   511.1524963378906,\n",
       "   634.3223266601562,\n",
       "   623.7313842773438,\n",
       "   617.8812866210938,\n",
       "   615.4278564453125,\n",
       "   609.3965454101562,\n",
       "   612.7506713867188,\n",
       "   610.5584106445312,\n",
       "   588.6157836914062,\n",
       "   508.0747680664062,\n",
       "   465.4272155761719],\n",
       "  'ac_annual': 6575.31884765625,\n",
       "  'solrad_annual': 5.618043899536133,\n",
       "  'capacity_factor': 18.76517868041992}}"
      ]
     },
     "execution_count": 47,
     "metadata": {},
     "output_type": "execute_result"
    }
   ],
   "source": [
    "response.json()"
   ]
  },
  {
   "cell_type": "code",
   "execution_count": null,
   "metadata": {},
   "outputs": [],
   "source": []
  }
 ],
 "metadata": {
  "kernelspec": {
   "display_name": "Python 3",
   "language": "python",
   "name": "python3"
  },
  "language_info": {
   "codemirror_mode": {
    "name": "ipython",
    "version": 3
   },
   "file_extension": ".py",
   "mimetype": "text/x-python",
   "name": "python",
   "nbconvert_exporter": "python",
   "pygments_lexer": "ipython3",
   "version": "3.7.4"
  }
 },
 "nbformat": 4,
 "nbformat_minor": 2
}
